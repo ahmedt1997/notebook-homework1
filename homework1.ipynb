{
 "cells": [
  {
   "cell_type": "code",
   "execution_count": 57,
   "metadata": {},
   "outputs": [],
   "source": [
    "revenue = [14574.49, 7606.46, 8611.41, 9175.41, 8058.65, 8105.44, 11496.28, 9766.09, 10305.32, 14379.96, 10713.97, 15433.50]\n",
    "expenses = [12051.82, 5695.07, 12319.20, 12089.72, 8658.57, 840.20, 3285.73, 5821.12, 6976.93, 16618.61, 10054.37, 3803.96]"
   ]
  },
  {
   "cell_type": "code",
   "execution_count": 3,
   "metadata": {},
   "outputs": [],
   "source": [
    "#profit each mounth"
   ]
  },
  {
   "cell_type": "code",
   "execution_count": 60,
   "metadata": {},
   "outputs": [
    {
     "name": "stdout",
     "output_type": "stream",
     "text": [
      "[2522.67, 1911.3900000000003, -3707.790000000001, -2914.3099999999995, -599.9200000000001, 7265.24, 8210.550000000001, 3944.9700000000003, 3328.3899999999994, -2238.6500000000015, 659.5999999999985, 11629.54]\n"
     ]
    }
   ],
   "source": [
    "profit = []\n",
    "for i in range(0,len(revenue)):\n",
    "    profit.append((revenue[i]-expenses[i])*30/100)\n",
    "print(profit)\n",
    "    "
   ]
  },
  {
   "cell_type": "code",
   "execution_count": 61,
   "metadata": {},
   "outputs": [],
   "source": [
    "#profit after tax"
   ]
  },
  {
   "cell_type": "code",
   "execution_count": 67,
   "metadata": {},
   "outputs": [
    {
     "name": "stdout",
     "output_type": "stream",
     "text": [
      "[756.801, 573.4170000000001, -1112.3370000000002, -874.2929999999999, -179.97600000000003, 2179.5719999999997, 2463.1650000000004, 1183.491, 998.5169999999998, -671.5950000000005, 197.87999999999957, 3488.862]\n"
     ]
    }
   ],
   "source": [
    "profit_afterTax = []\n",
    "for i in range(0,len(revenue)):\n",
    "    profit_afterTax.append((revenue[i]-expenses[i])*30/100)\n",
    "print(profit_afterTax)"
   ]
  },
  {
   "cell_type": "code",
   "execution_count": 63,
   "metadata": {},
   "outputs": [],
   "source": [
    "#profit margin each mounth"
   ]
  },
  {
   "cell_type": "code",
   "execution_count": 84,
   "metadata": {},
   "outputs": [
    {
     "name": "stdout",
     "output_type": "stream",
     "text": [
      "[5.192641389166963, 7.538552756472789, -12.917013590108938, -9.528653215496636, -2.233326922003066, 26.890236680550345, 21.425756853521317, 12.118370811655431, 9.689335217149976, -4.670353742291359, 1.8469344230009936, 22.605773155797454]\n"
     ]
    }
   ],
   "source": [
    "profit = []\n",
    "for i in range(0,len(revenue)):\n",
    "    profit.append((((revenue[i]-expenses[i])*30/100)/revenue[i])*100)\n",
    "print(profit)"
   ]
  },
  {
   "cell_type": "code",
   "execution_count": 72,
   "metadata": {},
   "outputs": [],
   "source": [
    "\n",
    "import numpy as np\n",
    "meanoftheyear=np.array(profit_afterTax)"
   ]
  },
  {
   "cell_type": "code",
   "execution_count": 75,
   "metadata": {},
   "outputs": [],
   "source": [
    "meanoftheyear2=meanoftheyear.mean()"
   ]
  },
  {
   "cell_type": "code",
   "execution_count": 76,
   "metadata": {},
   "outputs": [
    {
     "data": {
      "text/plain": [
       "750.2919999999999"
      ]
     },
     "execution_count": 76,
     "metadata": {},
     "output_type": "execute_result"
    }
   ],
   "source": [
    "meanoftheyear2"
   ]
  },
  {
   "cell_type": "code",
   "execution_count": 81,
   "metadata": {},
   "outputs": [
    {
     "name": "stdout",
     "output_type": "stream",
     "text": [
      "[756.801, 2179.5719999999997, 2463.1650000000004, 1183.491, 998.5169999999998, 3488.862]\n"
     ]
    }
   ],
   "source": [
    "good_months = []\n",
    "for i in range(0,len(profit_afterTax)):\n",
    "    if profit_afterTax[i] >= meanoftheyear2:\n",
    "        good_months.append(profit_afterTax[i])\n",
    "print(good_months)"
   ]
  },
  {
   "cell_type": "code",
   "execution_count": 82,
   "metadata": {},
   "outputs": [
    {
     "name": "stdout",
     "output_type": "stream",
     "text": [
      "[573.4170000000001, -1112.3370000000002, -874.2929999999999, -179.97600000000003, -671.5950000000005, 197.87999999999957]\n"
     ]
    }
   ],
   "source": [
    "bad_months = []\n",
    "for i in range(0,len(profit_afterTax)):\n",
    "    if profit_afterTax[i] <= meanoftheyear2:\n",
    "        bad_months.append(profit_afterTax[i])\n",
    "print(bad_months)"
   ]
  },
  {
   "cell_type": "code",
   "execution_count": null,
   "metadata": {},
   "outputs": [],
   "source": []
  },
  {
   "cell_type": "code",
   "execution_count": null,
   "metadata": {},
   "outputs": [],
   "source": []
  }
 ],
 "metadata": {
  "kernelspec": {
   "display_name": "Python 3",
   "language": "python",
   "name": "python3"
  },
  "language_info": {
   "codemirror_mode": {
    "name": "ipython",
    "version": 3
   },
   "file_extension": ".py",
   "mimetype": "text/x-python",
   "name": "python",
   "nbconvert_exporter": "python",
   "pygments_lexer": "ipython3",
   "version": "3.8.3"
  }
 },
 "nbformat": 4,
 "nbformat_minor": 4
}
